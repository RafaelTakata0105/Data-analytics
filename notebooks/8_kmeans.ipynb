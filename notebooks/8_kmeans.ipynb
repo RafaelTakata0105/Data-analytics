{
 "cells": [
  {
   "cell_type": "markdown",
   "id": "3f4a7791",
   "metadata": {},
   "source": [
    "# KMeans from Scratch\n",
    "Rafael Takata Garcia\n",
    "\n",
    "Machine Learning Class at ITESO - 2023"
   ]
  },
  {
   "cell_type": "code",
   "execution_count": 282,
   "id": "cfee57c6",
   "metadata": {},
   "outputs": [],
   "source": [
    "from sklearn.datasets import make_blobs\n",
    "import pandas as pd\n",
    "import numpy as np\n",
    "import matplotlib.pyplot as plt"
   ]
  },
  {
   "cell_type": "markdown",
   "id": "b229d336",
   "metadata": {},
   "source": [
    "## Create Data"
   ]
  },
  {
   "cell_type": "code",
   "execution_count": 283,
   "id": "00e67b91",
   "metadata": {},
   "outputs": [],
   "source": [
    "# create fake data\n",
    "X, y = make_blobs(n_samples = 100, centers = 3, n_features = 2, random_state = 42, cluster_std = 2)"
   ]
  },
  {
   "cell_type": "code",
   "execution_count": 284,
   "id": "86b9f001",
   "metadata": {},
   "outputs": [
    {
     "data": {
      "text/plain": [
       "{0, 1, 2}"
      ]
     },
     "execution_count": 284,
     "metadata": {},
     "output_type": "execute_result"
    }
   ],
   "source": [
    "set(y)"
   ]
  },
  {
   "cell_type": "code",
   "execution_count": 285,
   "id": "d8099322",
   "metadata": {},
   "outputs": [
    {
     "data": {
      "text/html": [
       "<div>\n",
       "<style scoped>\n",
       "    .dataframe tbody tr th:only-of-type {\n",
       "        vertical-align: middle;\n",
       "    }\n",
       "\n",
       "    .dataframe tbody tr th {\n",
       "        vertical-align: top;\n",
       "    }\n",
       "\n",
       "    .dataframe thead th {\n",
       "        text-align: right;\n",
       "    }\n",
       "</style>\n",
       "<table border=\"1\" class=\"dataframe\">\n",
       "  <thead>\n",
       "    <tr style=\"text-align: right;\">\n",
       "      <th></th>\n",
       "      <th>class</th>\n",
       "      <th>x1</th>\n",
       "      <th>x2</th>\n",
       "    </tr>\n",
       "  </thead>\n",
       "  <tbody>\n",
       "    <tr>\n",
       "      <th>0</th>\n",
       "      <td>2</td>\n",
       "      <td>-8.573215</td>\n",
       "      <td>-9.909804</td>\n",
       "    </tr>\n",
       "    <tr>\n",
       "      <th>1</th>\n",
       "      <td>1</td>\n",
       "      <td>6.266913</td>\n",
       "      <td>-0.488559</td>\n",
       "    </tr>\n",
       "    <tr>\n",
       "      <th>2</th>\n",
       "      <td>0</td>\n",
       "      <td>-3.448146</td>\n",
       "      <td>10.099406</td>\n",
       "    </tr>\n",
       "    <tr>\n",
       "      <th>3</th>\n",
       "      <td>1</td>\n",
       "      <td>7.445467</td>\n",
       "      <td>-0.830532</td>\n",
       "    </tr>\n",
       "    <tr>\n",
       "      <th>4</th>\n",
       "      <td>2</td>\n",
       "      <td>-6.164052</td>\n",
       "      <td>-5.758541</td>\n",
       "    </tr>\n",
       "    <tr>\n",
       "      <th>...</th>\n",
       "      <td>...</td>\n",
       "      <td>...</td>\n",
       "      <td>...</td>\n",
       "    </tr>\n",
       "    <tr>\n",
       "      <th>95</th>\n",
       "      <td>0</td>\n",
       "      <td>-3.863042</td>\n",
       "      <td>10.237639</td>\n",
       "    </tr>\n",
       "    <tr>\n",
       "      <th>96</th>\n",
       "      <td>0</td>\n",
       "      <td>-0.447199</td>\n",
       "      <td>10.876846</td>\n",
       "    </tr>\n",
       "    <tr>\n",
       "      <th>97</th>\n",
       "      <td>1</td>\n",
       "      <td>4.317307</td>\n",
       "      <td>2.781271</td>\n",
       "    </tr>\n",
       "    <tr>\n",
       "      <th>98</th>\n",
       "      <td>2</td>\n",
       "      <td>-4.713525</td>\n",
       "      <td>-4.772505</td>\n",
       "    </tr>\n",
       "    <tr>\n",
       "      <th>99</th>\n",
       "      <td>0</td>\n",
       "      <td>-4.187633</td>\n",
       "      <td>8.395861</td>\n",
       "    </tr>\n",
       "  </tbody>\n",
       "</table>\n",
       "<p>100 rows × 3 columns</p>\n",
       "</div>"
      ],
      "text/plain": [
       "    class        x1         x2\n",
       "0       2 -8.573215  -9.909804\n",
       "1       1  6.266913  -0.488559\n",
       "2       0 -3.448146  10.099406\n",
       "3       1  7.445467  -0.830532\n",
       "4       2 -6.164052  -5.758541\n",
       "..    ...       ...        ...\n",
       "95      0 -3.863042  10.237639\n",
       "96      0 -0.447199  10.876846\n",
       "97      1  4.317307   2.781271\n",
       "98      2 -4.713525  -4.772505\n",
       "99      0 -4.187633   8.395861\n",
       "\n",
       "[100 rows x 3 columns]"
      ]
     },
     "execution_count": 285,
     "metadata": {},
     "output_type": "execute_result"
    }
   ],
   "source": [
    "df = pd.DataFrame()\n",
    "df['class'] = y\n",
    "df['x1'] = X[:, 0]\n",
    "df['x2'] = X[:, 1]\n",
    "df"
   ]
  },
  {
   "cell_type": "code",
   "execution_count": 286,
   "id": "ff5295fc",
   "metadata": {},
   "outputs": [
    {
     "data": {
      "text/plain": [
       "<Axes: xlabel='x1', ylabel='x2'>"
      ]
     },
     "execution_count": 286,
     "metadata": {},
     "output_type": "execute_result"
    },
    {
     "data": {
      "image/png": "[encoded data removed]",
      "text/plain": [
       "<Figure size 500x500 with 1 Axes>"
      ]
     },
     "metadata": {},
     "output_type": "display_data"
    }
   ],
   "source": [
    "import seaborn as sns\n",
    "\n",
    "plt.figure(figsize=(5,5))\n",
    "sns.scatterplot(x = 'x1', y = 'x2', hue = 'class', data = df, legend = 'full', palette = 'tab20')"
   ]
  },
  {
   "cell_type": "markdown",
   "id": "9e84ba53",
   "metadata": {},
   "source": [
    "# Algorithm\n"
   ]
  },
  {
   "cell_type": "markdown",
   "id": "249493dd",
   "metadata": {},
   "source": [
    "## Step 1\n",
    "Randomly pick 𝒌 data points as our initial Centroids."
   ]
  },
  {
   "cell_type": "code",
   "execution_count": 287,
   "id": "1fd97473",
   "metadata": {},
   "outputs": [
    {
     "data": {
      "text/plain": [
       "array([35, 26, 81])"
      ]
     },
     "execution_count": 287,
     "metadata": {},
     "output_type": "execute_result"
    }
   ],
   "source": [
    "k = 3\n",
    "\n",
    "# Step 1\n",
    "idx = np.random.choice(len(X), k)\n",
    "centroids = X[idx, :]\n",
    "idx"
   ]
  },
  {
   "cell_type": "markdown",
   "id": "eced2bbc",
   "metadata": {},
   "source": [
    "## Step 2\n",
    "Find the distance between each data points in our training set with the 𝒌 centroids.\n"
   ]
  },
  {
   "cell_type": "code",
   "execution_count": 288,
   "id": "c87763db",
   "metadata": {},
   "outputs": [
    {
     "data": {
      "text/plain": [
       "array([[18.97439356, 15.15625277, 16.18501625],\n",
       "       [13.38301163,  4.74316196,  3.67456043],\n",
       "       [ 1.68900381, 10.39497841, 10.92929148],\n",
       "       [14.49928128,  5.96818866,  4.87637143],\n",
       "       [14.40000786, 10.5380092 , 11.64319147]])"
      ]
     },
     "execution_count": 288,
     "metadata": {},
     "output_type": "execute_result"
    }
   ],
   "source": [
    "from scipy.spatial.distance import cdist\n",
    "\n",
    "# Step 2\n",
    "distances = cdist(XA= X, XB = centroids, metric = 'euclidean')\n",
    "distances[0:5]"
   ]
  },
  {
   "cell_type": "markdown",
   "id": "3edc850b",
   "metadata": {},
   "source": [
    "## Step 3\n",
    "Now assign each data point to the closest centroid"
   ]
  },
  {
   "cell_type": "code",
   "execution_count": 289,
   "id": "164186c9",
   "metadata": {},
   "outputs": [
    {
     "data": {
      "text/plain": [
       "array([1, 2, 0, 2, 1, 2, 0, 2, 2, 0, 0, 1, 1, 0, 0, 1, 1, 0, 1, 1, 0, 1,\n",
       "       1, 0, 0, 0, 1, 1, 1, 1, 1, 2, 2, 1, 0, 0, 0, 0, 2, 2, 1, 0, 2, 0,\n",
       "       0, 2, 1, 1, 1, 2, 1, 2, 0, 1, 1, 1, 0, 0, 2, 0, 1, 2, 1, 1, 1, 1,\n",
       "       2, 1, 2, 2, 2, 1, 1, 0, 2, 1, 2, 1, 2, 1, 0, 2, 0, 1, 0, 0, 0, 2,\n",
       "       0, 2, 2, 2, 0, 2, 0, 0, 0, 2, 1, 0], dtype=int64)"
      ]
     },
     "execution_count": 289,
     "metadata": {},
     "output_type": "execute_result"
    }
   ],
   "source": [
    "# Step 3\n",
    "assigned_points =[]\n",
    "i = 0\n",
    "for point in X:\n",
    "    points = np.argmin(distances[i])\n",
    "    assigned_points.append(points)\n",
    "    i += 1\n",
    "assigned_points = np.array(assigned_points)\n",
    "assigned_points"
   ]
  },
  {
   "cell_type": "markdown",
   "id": "311bd866",
   "metadata": {},
   "source": [
    "## Step 4\n",
    "Update centroid location by taking the average of the points in each cluster group.\n"
   ]
  },
  {
   "cell_type": "code",
   "execution_count": 290,
   "id": "905e0315",
   "metadata": {},
   "outputs": [
    {
     "data": {
      "text/plain": [
       "array([[-2.82641022,  8.85723525],\n",
       "       [-6.16850603, -5.53533497],\n",
       "       [ 4.83797394,  1.86464957]])"
      ]
     },
     "execution_count": 290,
     "metadata": {},
     "output_type": "execute_result"
    }
   ],
   "source": [
    "# Step 4\n",
    "temp_centroids = []\n",
    "\n",
    "for cluster in range(k):\n",
    "    # Update\n",
    "    temp_cluster_centroid = [np.mean(X[assigned_points == cluster][:, 0]), np.mean(X[assigned_points == cluster][:, 1]) ]\n",
    "    temp_centroids.append(temp_cluster_centroid)\n",
    "\n",
    "temp_centroids = np.array(temp_centroids)\n",
    "temp_centroids"
   ]
  },
  {
   "cell_type": "markdown",
   "id": "dbbc2b15",
   "metadata": {},
   "source": [
    "# Step 5\n",
    "Centroid change? Convergence"
   ]
  },
  {
   "cell_type": "code",
   "execution_count": 291,
   "id": "01570591",
   "metadata": {},
   "outputs": [
    {
     "data": {
      "text/plain": [
       "(array([[-3.710475  ,  8.43089863],\n",
       "        [ 1.80913735,  1.13187904],\n",
       "        [ 3.07337225,  1.32904665]]),\n",
       " array([[-2.82641022,  8.85723525],\n",
       "        [-6.16850603, -5.53533497],\n",
       "        [ 4.83797394,  1.86464957]]))"
      ]
     },
     "execution_count": 291,
     "metadata": {},
     "output_type": "execute_result"
    }
   ],
   "source": [
    "centroids, temp_centroids"
   ]
  },
  {
   "cell_type": "code",
   "execution_count": 292,
   "id": "247f01fc",
   "metadata": {},
   "outputs": [
    {
     "name": "stdout",
     "output_type": "stream",
     "text": [
      "Not Done\n"
     ]
    }
   ],
   "source": [
    "# Step 5\n",
    "if ( (centroids == temp_centroids).all() ):\n",
    "    print(\"Done\")\n",
    "else:\n",
    "    print(\"Not Done\")\n",
    "    centroids = temp_centroids"
   ]
  },
  {
   "cell_type": "markdown",
   "id": "b297ad04",
   "metadata": {},
   "source": [
    "# All together"
   ]
  },
  {
   "cell_type": "code",
   "execution_count": 293,
   "id": "969ccc27",
   "metadata": {},
   "outputs": [],
   "source": [
    "def kmeans(X, k):\n",
    "    \n",
    "    # Step 1\n",
    "    idx = np.random.choice(len(X), k)\n",
    "    centroids = X[idx, :]\n",
    "    \n",
    "    while True:\n",
    "        # Step 2\n",
    "        distances = cdist(XA= X, XB = centroids, metric = 'euclidean')\n",
    "\n",
    "        # Step 3\n",
    "        assigned_points =[]\n",
    "        i = 0\n",
    "        for point in X:\n",
    "            points = np.argmin(distances[i])\n",
    "            assigned_points.append(points)\n",
    "            i += 1\n",
    "        assigned_points = np.array(assigned_points)\n",
    "\n",
    "        # Step 4\n",
    "        temp_centroids = []\n",
    "        for cluster in range(k):\n",
    "            # Update\n",
    "            temp_cluster_centroid = [np.mean(X[assigned_points == cluster][:, 0]), np.mean(X[assigned_points == cluster][:, 1])]\n",
    "            temp_centroids.append(temp_cluster_centroid)\n",
    "\n",
    "        temp_centroids = np.array(temp_centroids)\n",
    "\n",
    "        # Step 5\n",
    "        if ( (centroids == temp_centroids).all() ):\n",
    "            # Done\n",
    "            return assigned_points, centroids\n",
    "\n",
    "        else:\n",
    "            centroids = temp_centroids"
   ]
  },
  {
   "cell_type": "code",
   "execution_count": 294,
   "id": "ed5eb81a",
   "metadata": {},
   "outputs": [],
   "source": [
    "k = 3\n",
    "assigned_points, centroids = kmeans(X, k)"
   ]
  },
  {
   "cell_type": "code",
   "execution_count": 295,
   "id": "af0101d8",
   "metadata": {},
   "outputs": [
    {
     "data": {
      "text/plain": [
       "array([[-2.82641022,  8.85723525],\n",
       "       [-7.02379204, -6.47232379],\n",
       "       [ 4.35914117,  1.90467057]])"
      ]
     },
     "execution_count": 295,
     "metadata": {},
     "output_type": "execute_result"
    }
   ],
   "source": [
    "centroids"
   ]
  },
  {
   "cell_type": "code",
   "execution_count": 296,
   "id": "3328ea8a",
   "metadata": {},
   "outputs": [
    {
     "data": {
      "text/plain": [
       "<matplotlib.legend.Legend at 0x216dfddfaa0>"
      ]
     },
     "execution_count": 296,
     "metadata": {},
     "output_type": "execute_result"
    },
    {
     "data": {
      "image/png": "[encoded data removed]",
      "text/plain": [
       "<Figure size 800x500 with 1 Axes>"
      ]
     },
     "metadata": {},
     "output_type": "display_data"
    }
   ],
   "source": [
    "df = pd.DataFrame()\n",
    "df['cluster'] = assigned_points\n",
    "df['x1'] = X[:, 0]\n",
    "df['x2'] = X[:, 1]\n",
    "\n",
    "# plot\n",
    "plt.figure(figsize=(8,5))\n",
    "sns.scatterplot(x = 'x1', y = 'x2', hue = 'cluster', data = df, legend = 'full', palette = 'tab20')\n",
    "plt.scatter(centroids[:, 0], centroids[:, 1], c = 'r', label = 'Centroids')\n",
    "plt.legend()"
   ]
  },
  {
   "cell_type": "markdown",
   "id": "4166d930",
   "metadata": {},
   "source": [
    "# The Elbow Method + Sklearn"
   ]
  },
  {
   "cell_type": "code",
   "execution_count": 297,
   "id": "5a36cd13",
   "metadata": {},
   "outputs": [
    {
     "name": "stderr",
     "output_type": "stream",
     "text": [
      "c:\\Users\\Rafa\\anaconda3\\envs\\analisis\\Lib\\site-packages\\sklearn\\cluster\\_kmeans.py:1412: FutureWarning: The default value of `n_init` will change from 10 to 'auto' in 1.4. Set the value of `n_init` explicitly to suppress the warning\n",
      "  super()._check_params_vs_input(X, default_n_init=10)\n",
      "c:\\Users\\Rafa\\anaconda3\\envs\\analisis\\Lib\\site-packages\\sklearn\\cluster\\_kmeans.py:1436: UserWarning: KMeans is known to have a memory leak on Windows with MKL, when there are less chunks than available threads. You can avoid it by setting the environment variable OMP_NUM_THREADS=1.\n",
      "  warnings.warn(\n"
     ]
    }
   ],
   "source": [
    "from sklearn.cluster import KMeans\n",
    "\n",
    "k = 2\n",
    "kmeans = KMeans(n_clusters = k, random_state  = 42).fit(X)"
   ]
  },
  {
   "cell_type": "code",
   "execution_count": 298,
   "id": "e855a3b8",
   "metadata": {},
   "outputs": [
    {
     "name": "stdout",
     "output_type": "stream",
     "text": [
      "Points:  [1 0 0 0 1 0 0 0 0 0 0 1 1 0 0 1 1 0 1 1 0 1 1 0 0 0 0 1 1 1 1 0 0 1 0 0 0\n",
      " 0 0 0 1 0 0 0 0 0 1 1 1 0 0 0 0 1 1 1 0 0 0 0 1 0 1 0 1 1 0 1 0 0 0 1 1 0\n",
      " 0 1 0 1 0 0 0 0 0 1 0 0 0 0 0 0 0 0 0 0 0 0 0 0 1 0]\n"
     ]
    }
   ],
   "source": [
    "print(\"Points: \", kmeans.labels_)\n",
    "# print(\"Centroids: \", kmeans.cluster_centers_[0])"
   ]
  },
  {
   "cell_type": "code",
   "execution_count": 299,
   "id": "4c271cf0",
   "metadata": {},
   "outputs": [
    {
     "name": "stdout",
     "output_type": "stream",
     "text": [
      "Score:  2361.7735151752468\n",
      "Score:  -2361.7735151752468\n"
     ]
    }
   ],
   "source": [
    "print(\"Score: \", kmeans.inertia_)\n",
    "print(\"Score: \", kmeans.score(X))"
   ]
  },
  {
   "cell_type": "code",
   "execution_count": 300,
   "id": "46c13439",
   "metadata": {},
   "outputs": [
    {
     "name": "stderr",
     "output_type": "stream",
     "text": [
      "c:\\Users\\Rafa\\anaconda3\\envs\\analisis\\Lib\\site-packages\\sklearn\\cluster\\_kmeans.py:1412: FutureWarning: The default value of `n_init` will change from 10 to 'auto' in 1.4. Set the value of `n_init` explicitly to suppress the warning\n",
      "  super()._check_params_vs_input(X, default_n_init=10)\n",
      "c:\\Users\\Rafa\\anaconda3\\envs\\analisis\\Lib\\site-packages\\sklearn\\cluster\\_kmeans.py:1436: UserWarning: KMeans is known to have a memory leak on Windows with MKL, when there are less chunks than available threads. You can avoid it by setting the environment variable OMP_NUM_THREADS=1.\n",
      "  warnings.warn(\n",
      "c:\\Users\\Rafa\\anaconda3\\envs\\analisis\\Lib\\site-packages\\sklearn\\cluster\\_kmeans.py:1412: FutureWarning: The default value of `n_init` will change from 10 to 'auto' in 1.4. Set the value of `n_init` explicitly to suppress the warning\n",
      "  super()._check_params_vs_input(X, default_n_init=10)\n",
      "c:\\Users\\Rafa\\anaconda3\\envs\\analisis\\Lib\\site-packages\\sklearn\\cluster\\_kmeans.py:1436: UserWarning: KMeans is known to have a memory leak on Windows with MKL, when there are less chunks than available threads. You can avoid it by setting the environment variable OMP_NUM_THREADS=1.\n",
      "  warnings.warn(\n",
      "c:\\Users\\Rafa\\anaconda3\\envs\\analisis\\Lib\\site-packages\\sklearn\\cluster\\_kmeans.py:1412: FutureWarning: The default value of `n_init` will change from 10 to 'auto' in 1.4. Set the value of `n_init` explicitly to suppress the warning\n",
      "  super()._check_params_vs_input(X, default_n_init=10)\n",
      "c:\\Users\\Rafa\\anaconda3\\envs\\analisis\\Lib\\site-packages\\sklearn\\cluster\\_kmeans.py:1436: UserWarning: KMeans is known to have a memory leak on Windows with MKL, when there are less chunks than available threads. You can avoid it by setting the environment variable OMP_NUM_THREADS=1.\n",
      "  warnings.warn(\n",
      "c:\\Users\\Rafa\\anaconda3\\envs\\analisis\\Lib\\site-packages\\sklearn\\cluster\\_kmeans.py:1412: FutureWarning: The default value of `n_init` will change from 10 to 'auto' in 1.4. Set the value of `n_init` explicitly to suppress the warning\n",
      "  super()._check_params_vs_input(X, default_n_init=10)\n",
      "c:\\Users\\Rafa\\anaconda3\\envs\\analisis\\Lib\\site-packages\\sklearn\\cluster\\_kmeans.py:1436: UserWarning: KMeans is known to have a memory leak on Windows with MKL, when there are less chunks than available threads. You can avoid it by setting the environment variable OMP_NUM_THREADS=1.\n",
      "  warnings.warn(\n",
      "c:\\Users\\Rafa\\anaconda3\\envs\\analisis\\Lib\\site-packages\\sklearn\\cluster\\_kmeans.py:1412: FutureWarning: The default value of `n_init` will change from 10 to 'auto' in 1.4. Set the value of `n_init` explicitly to suppress the warning\n",
      "  super()._check_params_vs_input(X, default_n_init=10)\n",
      "c:\\Users\\Rafa\\anaconda3\\envs\\analisis\\Lib\\site-packages\\sklearn\\cluster\\_kmeans.py:1436: UserWarning: KMeans is known to have a memory leak on Windows with MKL, when there are less chunks than available threads. You can avoid it by setting the environment variable OMP_NUM_THREADS=1.\n",
      "  warnings.warn(\n",
      "c:\\Users\\Rafa\\anaconda3\\envs\\analisis\\Lib\\site-packages\\sklearn\\cluster\\_kmeans.py:1412: FutureWarning: The default value of `n_init` will change from 10 to 'auto' in 1.4. Set the value of `n_init` explicitly to suppress the warning\n",
      "  super()._check_params_vs_input(X, default_n_init=10)\n",
      "c:\\Users\\Rafa\\anaconda3\\envs\\analisis\\Lib\\site-packages\\sklearn\\cluster\\_kmeans.py:1436: UserWarning: KMeans is known to have a memory leak on Windows with MKL, when there are less chunks than available threads. You can avoid it by setting the environment variable OMP_NUM_THREADS=1.\n",
      "  warnings.warn(\n",
      "c:\\Users\\Rafa\\anaconda3\\envs\\analisis\\Lib\\site-packages\\sklearn\\cluster\\_kmeans.py:1412: FutureWarning: The default value of `n_init` will change from 10 to 'auto' in 1.4. Set the value of `n_init` explicitly to suppress the warning\n",
      "  super()._check_params_vs_input(X, default_n_init=10)\n",
      "c:\\Users\\Rafa\\anaconda3\\envs\\analisis\\Lib\\site-packages\\sklearn\\cluster\\_kmeans.py:1436: UserWarning: KMeans is known to have a memory leak on Windows with MKL, when there are less chunks than available threads. You can avoid it by setting the environment variable OMP_NUM_THREADS=1.\n",
      "  warnings.warn(\n",
      "c:\\Users\\Rafa\\anaconda3\\envs\\analisis\\Lib\\site-packages\\sklearn\\cluster\\_kmeans.py:1412: FutureWarning: The default value of `n_init` will change from 10 to 'auto' in 1.4. Set the value of `n_init` explicitly to suppress the warning\n",
      "  super()._check_params_vs_input(X, default_n_init=10)\n",
      "c:\\Users\\Rafa\\anaconda3\\envs\\analisis\\Lib\\site-packages\\sklearn\\cluster\\_kmeans.py:1436: UserWarning: KMeans is known to have a memory leak on Windows with MKL, when there are less chunks than available threads. You can avoid it by setting the environment variable OMP_NUM_THREADS=1.\n",
      "  warnings.warn(\n",
      "c:\\Users\\Rafa\\anaconda3\\envs\\analisis\\Lib\\site-packages\\sklearn\\cluster\\_kmeans.py:1412: FutureWarning: The default value of `n_init` will change from 10 to 'auto' in 1.4. Set the value of `n_init` explicitly to suppress the warning\n",
      "  super()._check_params_vs_input(X, default_n_init=10)\n",
      "c:\\Users\\Rafa\\anaconda3\\envs\\analisis\\Lib\\site-packages\\sklearn\\cluster\\_kmeans.py:1436: UserWarning: KMeans is known to have a memory leak on Windows with MKL, when there are less chunks than available threads. You can avoid it by setting the environment variable OMP_NUM_THREADS=1.\n",
      "  warnings.warn(\n",
      "c:\\Users\\Rafa\\anaconda3\\envs\\analisis\\Lib\\site-packages\\sklearn\\cluster\\_kmeans.py:1412: FutureWarning: The default value of `n_init` will change from 10 to 'auto' in 1.4. Set the value of `n_init` explicitly to suppress the warning\n",
      "  super()._check_params_vs_input(X, default_n_init=10)\n",
      "c:\\Users\\Rafa\\anaconda3\\envs\\analisis\\Lib\\site-packages\\sklearn\\cluster\\_kmeans.py:1436: UserWarning: KMeans is known to have a memory leak on Windows with MKL, when there are less chunks than available threads. You can avoid it by setting the environment variable OMP_NUM_THREADS=1.\n",
      "  warnings.warn(\n",
      "c:\\Users\\Rafa\\anaconda3\\envs\\analisis\\Lib\\site-packages\\sklearn\\cluster\\_kmeans.py:1412: FutureWarning: The default value of `n_init` will change from 10 to 'auto' in 1.4. Set the value of `n_init` explicitly to suppress the warning\n",
      "  super()._check_params_vs_input(X, default_n_init=10)\n",
      "c:\\Users\\Rafa\\anaconda3\\envs\\analisis\\Lib\\site-packages\\sklearn\\cluster\\_kmeans.py:1436: UserWarning: KMeans is known to have a memory leak on Windows with MKL, when there are less chunks than available threads. You can avoid it by setting the environment variable OMP_NUM_THREADS=1.\n",
      "  warnings.warn(\n",
      "c:\\Users\\Rafa\\anaconda3\\envs\\analisis\\Lib\\site-packages\\sklearn\\cluster\\_kmeans.py:1412: FutureWarning: The default value of `n_init` will change from 10 to 'auto' in 1.4. Set the value of `n_init` explicitly to suppress the warning\n",
      "  super()._check_params_vs_input(X, default_n_init=10)\n",
      "c:\\Users\\Rafa\\anaconda3\\envs\\analisis\\Lib\\site-packages\\sklearn\\cluster\\_kmeans.py:1436: UserWarning: KMeans is known to have a memory leak on Windows with MKL, when there are less chunks than available threads. You can avoid it by setting the environment variable OMP_NUM_THREADS=1.\n",
      "  warnings.warn(\n",
      "c:\\Users\\Rafa\\anaconda3\\envs\\analisis\\Lib\\site-packages\\sklearn\\cluster\\_kmeans.py:1412: FutureWarning: The default value of `n_init` will change from 10 to 'auto' in 1.4. Set the value of `n_init` explicitly to suppress the warning\n",
      "  super()._check_params_vs_input(X, default_n_init=10)\n",
      "c:\\Users\\Rafa\\anaconda3\\envs\\analisis\\Lib\\site-packages\\sklearn\\cluster\\_kmeans.py:1436: UserWarning: KMeans is known to have a memory leak on Windows with MKL, when there are less chunks than available threads. You can avoid it by setting the environment variable OMP_NUM_THREADS=1.\n",
      "  warnings.warn(\n",
      "c:\\Users\\Rafa\\anaconda3\\envs\\analisis\\Lib\\site-packages\\sklearn\\cluster\\_kmeans.py:1412: FutureWarning: The default value of `n_init` will change from 10 to 'auto' in 1.4. Set the value of `n_init` explicitly to suppress the warning\n",
      "  super()._check_params_vs_input(X, default_n_init=10)\n",
      "c:\\Users\\Rafa\\anaconda3\\envs\\analisis\\Lib\\site-packages\\sklearn\\cluster\\_kmeans.py:1436: UserWarning: KMeans is known to have a memory leak on Windows with MKL, when there are less chunks than available threads. You can avoid it by setting the environment variable OMP_NUM_THREADS=1.\n",
      "  warnings.warn(\n",
      "c:\\Users\\Rafa\\anaconda3\\envs\\analisis\\Lib\\site-packages\\sklearn\\cluster\\_kmeans.py:1412: FutureWarning: The default value of `n_init` will change from 10 to 'auto' in 1.4. Set the value of `n_init` explicitly to suppress the warning\n",
      "  super()._check_params_vs_input(X, default_n_init=10)\n",
      "c:\\Users\\Rafa\\anaconda3\\envs\\analisis\\Lib\\site-packages\\sklearn\\cluster\\_kmeans.py:1436: UserWarning: KMeans is known to have a memory leak on Windows with MKL, when there are less chunks than available threads. You can avoid it by setting the environment variable OMP_NUM_THREADS=1.\n",
      "  warnings.warn(\n",
      "c:\\Users\\Rafa\\anaconda3\\envs\\analisis\\Lib\\site-packages\\sklearn\\cluster\\_kmeans.py:1412: FutureWarning: The default value of `n_init` will change from 10 to 'auto' in 1.4. Set the value of `n_init` explicitly to suppress the warning\n",
      "  super()._check_params_vs_input(X, default_n_init=10)\n",
      "c:\\Users\\Rafa\\anaconda3\\envs\\analisis\\Lib\\site-packages\\sklearn\\cluster\\_kmeans.py:1436: UserWarning: KMeans is known to have a memory leak on Windows with MKL, when there are less chunks than available threads. You can avoid it by setting the environment variable OMP_NUM_THREADS=1.\n",
      "  warnings.warn(\n",
      "c:\\Users\\Rafa\\anaconda3\\envs\\analisis\\Lib\\site-packages\\sklearn\\cluster\\_kmeans.py:1412: FutureWarning: The default value of `n_init` will change from 10 to 'auto' in 1.4. Set the value of `n_init` explicitly to suppress the warning\n",
      "  super()._check_params_vs_input(X, default_n_init=10)\n",
      "c:\\Users\\Rafa\\anaconda3\\envs\\analisis\\Lib\\site-packages\\sklearn\\cluster\\_kmeans.py:1436: UserWarning: KMeans is known to have a memory leak on Windows with MKL, when there are less chunks than available threads. You can avoid it by setting the environment variable OMP_NUM_THREADS=1.\n",
      "  warnings.warn(\n",
      "c:\\Users\\Rafa\\anaconda3\\envs\\analisis\\Lib\\site-packages\\sklearn\\cluster\\_kmeans.py:1412: FutureWarning: The default value of `n_init` will change from 10 to 'auto' in 1.4. Set the value of `n_init` explicitly to suppress the warning\n",
      "  super()._check_params_vs_input(X, default_n_init=10)\n",
      "c:\\Users\\Rafa\\anaconda3\\envs\\analisis\\Lib\\site-packages\\sklearn\\cluster\\_kmeans.py:1436: UserWarning: KMeans is known to have a memory leak on Windows with MKL, when there are less chunks than available threads. You can avoid it by setting the environment variable OMP_NUM_THREADS=1.\n",
      "  warnings.warn(\n",
      "c:\\Users\\Rafa\\anaconda3\\envs\\analisis\\Lib\\site-packages\\sklearn\\cluster\\_kmeans.py:1412: FutureWarning: The default value of `n_init` will change from 10 to 'auto' in 1.4. Set the value of `n_init` explicitly to suppress the warning\n",
      "  super()._check_params_vs_input(X, default_n_init=10)\n",
      "c:\\Users\\Rafa\\anaconda3\\envs\\analisis\\Lib\\site-packages\\sklearn\\cluster\\_kmeans.py:1436: UserWarning: KMeans is known to have a memory leak on Windows with MKL, when there are less chunks than available threads. You can avoid it by setting the environment variable OMP_NUM_THREADS=1.\n",
      "  warnings.warn(\n"
     ]
    }
   ],
   "source": [
    "wcss = []\n",
    "\n",
    "for k in range(1, 20):\n",
    "    kmeans = KMeans(n_clusters = k, random_state  = 42).fit(X)\n",
    "    wcss.append(kmeans.inertia_)"
   ]
  },
  {
   "cell_type": "markdown",
   "id": "689e81d5",
   "metadata": {},
   "source": [
    "# Plot Elbow Method"
   ]
  },
  {
   "cell_type": "code",
   "execution_count": 301,
   "id": "58dc8b5b",
   "metadata": {},
   "outputs": [
    {
     "data": {
      "image/png": "[encoded data removed]",
      "text/plain": [
       "<Figure size 640x480 with 1 Axes>"
      ]
     },
     "metadata": {},
     "output_type": "display_data"
    }
   ],
   "source": [
    "plt.plot(range(1, 20), wcss)\n",
    "plt.title(\"Elbow Method\")\n",
    "plt.xlabel(\"K\")\n",
    "plt.ylabel(\"WCSS/Inertia/Score\")\n",
    "plt.show()"
   ]
  }
 ],
 "metadata": {
  "kernelspec": {
   "display_name": "Python 3.8.12 ('UMG')",
   "language": "python",
   "name": "python3"
  },
  "language_info": {
   "codemirror_mode": {
    "name": "ipython",
    "version": 3
   },
   "file_extension": ".py",
   "mimetype": "text/x-python",
   "name": "python",
   "nbconvert_exporter": "python",
   "pygments_lexer": "ipython3",
   "version": "3.12.1"
  },
  "vscode": {
   "interpreter": {
    "hash": "0389bab2fbea60515bf8027f3c0484e787046d7f1c21d6f4a4c9da67d79f5d44"
   }
  }
 },
 "nbformat": 4,
 "nbformat_minor": 5
}
