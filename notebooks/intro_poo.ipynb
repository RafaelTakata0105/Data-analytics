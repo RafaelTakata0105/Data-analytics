{
 "cells": [
  {
   "cell_type": "markdown",
   "metadata": {},
   "source": [
    "# Collatz Sequence Lenght Finder\n",
    "\n",
    "\n",
    "---\n",
    "#### Rafael Takata García \n",
    "###### 02/02/2024"
   ]
  },
  {
   "cell_type": "markdown",
   "metadata": {},
   "source": [
    "La secuencia de Collatz es una serie de operaciones repetidas con las que, al evaluar cualquier número entero se tendra como resultado final 1.\n",
    "\n",
    "Su funcionamiento es de la siguiente manera:\n",
    "\n",
    "Siendo n cualquier número entero\n",
    "\n",
    "Si es número par: $n = n/2 $\n",
    "\n",
    "Si es número impar: $n = 3n + 1$"
   ]
  },
  {
   "cell_type": "markdown",
   "metadata": {},
   "source": [
    "#### Encontrar cual es la cantidad de elementos de cada número:"
   ]
  },
  {
   "cell_type": "code",
   "execution_count": 2,
   "metadata": {},
   "outputs": [],
   "source": [
    "def collatz_lenght(a):\n",
    "    i = 1\n",
    "    while a != 1:\n",
    "        if a % 2 == 0:\n",
    "            a = a/2\n",
    "        else:\n",
    "            a = 3*a +1\n",
    "        i +=1\n",
    "    return i"
   ]
  },
  {
   "cell_type": "code",
   "execution_count": 11,
   "metadata": {},
   "outputs": [
    {
     "data": {
      "text/plain": [
       "8"
      ]
     },
     "execution_count": 11,
     "metadata": {},
     "output_type": "execute_result"
    }
   ],
   "source": [
    "collatz_lenght(3)"
   ]
  },
  {
   "cell_type": "markdown",
   "metadata": {},
   "source": [
    "#### Crear un diccionario donde: key = cantidad de elementos y value = numero"
   ]
  },
  {
   "cell_type": "code",
   "execution_count": 4,
   "metadata": {},
   "outputs": [],
   "source": [
    "def collatz_range(a, b):\n",
    "    index = {}\n",
    "    for n in range(a, b+1):\n",
    "         q = collatz_lenght(n)\n",
    "         index[q] = n\n",
    "    return index\n",
    "\n",
    "    "
   ]
  },
  {
   "cell_type": "code",
   "execution_count": 5,
   "metadata": {},
   "outputs": [
    {
     "data": {
      "text/plain": [
       "{1: 1, 2: 2, 8: 3, 3: 4, 6: 5, 9: 6, 17: 7, 4: 8}"
      ]
     },
     "execution_count": 5,
     "metadata": {},
     "output_type": "execute_result"
    }
   ],
   "source": [
    "collatz_range(1, 8)"
   ]
  },
  {
   "cell_type": "markdown",
   "metadata": {},
   "source": [
    "#### Separar el diccionario en listas y evaluarlas para encontrar el número más grande y su respectivo valor"
   ]
  },
  {
   "cell_type": "code",
   "execution_count": 6,
   "metadata": {},
   "outputs": [],
   "source": [
    "def collatz_finder(d):\n",
    "    qty = list(d.keys())\n",
    "    qty.sort(reverse=True)\n",
    "    highest_q = qty[0]\n",
    "    highest_n = d[highest_q]\n",
    "    return highest_n, highest_q\n",
    "\n",
    "    "
   ]
  },
  {
   "cell_type": "code",
   "execution_count": 7,
   "metadata": {},
   "outputs": [
    {
     "data": {
      "text/plain": [
       "(7, 17)"
      ]
     },
     "execution_count": 7,
     "metadata": {},
     "output_type": "execute_result"
    }
   ],
   "source": [
    "m = collatz_finder(collatz_range(1,8))\n",
    "m"
   ]
  },
  {
   "cell_type": "code",
   "execution_count": 8,
   "metadata": {},
   "outputs": [
    {
     "data": {
      "text/plain": [
       "(7, 17)"
      ]
     },
     "execution_count": 8,
     "metadata": {},
     "output_type": "execute_result"
    }
   ],
   "source": [
    "a = 1\n",
    "b = 8\n",
    "collatz_finder(collatz_range(a, b))"
   ]
  },
  {
   "cell_type": "markdown",
   "metadata": {},
   "source": [
    "#### Dar el formato de entradas y salidas para el usuario"
   ]
  },
  {
   "cell_type": "code",
   "execution_count": 10,
   "metadata": {},
   "outputs": [
    {
     "name": "stdout",
     "output_type": "stream",
     "text": [
      "El numero 9 tiene la secuencia de Collatz más grande con 20 elementos dentro del rango 1 a 10.\n"
     ]
    }
   ],
   "source": [
    "a = int(input(\"Introduzca el limite inferior a evaluar: \"))\n",
    "b = int(input(\"Introduzca el límite mayor: \"))\n",
    "num, elem = collatz_finder(collatz_range(a, b))\n",
    "print(f\"El numero {num} tiene la secuencia de Collatz más grande con {elem} elementos dentro del rango {a} a {b}.\")"
   ]
  }
 ],
 "metadata": {
  "kernelspec": {
   "display_name": "analisis",
   "language": "python",
   "name": "python3"
  },
  "language_info": {
   "codemirror_mode": {
    "name": "ipython",
    "version": 3
   },
   "file_extension": ".py",
   "mimetype": "text/x-python",
   "name": "python",
   "nbconvert_exporter": "python",
   "pygments_lexer": "ipython3",
   "version": "3.12.1"
  }
 },
 "nbformat": 4,
 "nbformat_minor": 2
}
