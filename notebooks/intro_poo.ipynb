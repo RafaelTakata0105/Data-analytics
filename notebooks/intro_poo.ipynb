{
 "cells": [
  {
   "cell_type": "markdown",
   "metadata": {},
   "source": [
    "# Collatz Sequence Lenght Finder\n",
    "\n",
    "\n",
    "---\n",
    "#### Rafael Takata García \n",
    "###### 02/02/2024"
   ]
  },
  {
   "cell_type": "markdown",
   "metadata": {},
   "source": [
    "La secuencia de Collatz es una serie de operaciones repetidas con las que, al evaluar cualquier número entero se tendra como resultado final 1.\n",
    "\n",
    "Su funcionamiento es de la siguiente manera:\n",
    "\n",
    "Siendo n cualquier número entero\n",
    "\n",
    "Si es número par: $n = n/2 $\n",
    "\n",
    "Si es número impar: $n = 3n + 1$"
   ]
  },
  {
   "cell_type": "code",
   "execution_count": 10,
   "metadata": {},
   "outputs": [],
   "source": [
    "def collatz_lenght(a, b):\n",
    "    for n in range(a, b+1):\n",
    "        counter = 1\n",
    "        while a != 1:\n",
    "            if a % 2 == 0:\n",
    "                a = a/2\n",
    "            else:\n",
    "                a = 3*a +1\n",
    "            counter +=1"
   ]
  },
  {
   "cell_type": "code",
   "execution_count": null,
   "metadata": {},
   "outputs": [],
   "source": [
    "collatz_lenght(1, 4)"
   ]
  }
 ],
 "metadata": {
  "kernelspec": {
   "display_name": "analisis",
   "language": "python",
   "name": "python3"
  },
  "language_info": {
   "codemirror_mode": {
    "name": "ipython",
    "version": 3
   },
   "file_extension": ".py",
   "mimetype": "text/x-python",
   "name": "python",
   "nbconvert_exporter": "python",
   "pygments_lexer": "ipython3",
   "version": "3.12.1"
  }
 },
 "nbformat": 4,
 "nbformat_minor": 2
}
