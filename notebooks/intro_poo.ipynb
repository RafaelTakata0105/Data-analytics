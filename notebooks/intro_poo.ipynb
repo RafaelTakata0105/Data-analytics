{
 "cells": [
  {
   "cell_type": "markdown",
   "metadata": {},
   "source": [
    "# Collatz Sequence Lenght Finder\n",
    "\n",
    "\n",
    "---\n",
    "#### Rafael Takata García \n",
    "###### 02/02/2024"
   ]
  },
  {
   "cell_type": "markdown",
   "metadata": {},
   "source": [
    "La secuencia de Collatz es una serie de operaciones repetidas con las que, al evaluar cualquier número entero se tendra como resultado final 1.\n",
    "\n",
    "Su funcionamiento es de la siguiente manera:\n",
    "\n",
    "Siendo n cualquier número entero\n",
    "\n",
    "Si es número par: $n = n/2 $\n",
    "\n",
    "Si es número impar: $n = 3n + 1$"
   ]
  },
  {
   "cell_type": "code",
   "execution_count": 33,
   "metadata": {},
   "outputs": [],
   "source": [
    "def collatz_lenght(a):\n",
    "    i = 1\n",
    "    while a != 1:\n",
    "        if a % 2 == 0:\n",
    "            a = a/2\n",
    "        else:\n",
    "            a = 3*a +1\n",
    "        i +=1\n",
    "    return i"
   ]
  },
  {
   "cell_type": "code",
   "execution_count": 48,
   "metadata": {},
   "outputs": [],
   "source": [
    "def collatz_range(a, b):\n",
    "    index = {}\n",
    "    for n in range(a, b+1):\n",
    "         q = collatz_lenght(n)\n",
    "         index[n] =q\n",
    "    return index\n",
    "\n",
    "    "
   ]
  },
  {
   "cell_type": "code",
   "execution_count": 50,
   "metadata": {},
   "outputs": [],
   "source": [
    "def collatz_finder(d):\n",
    "    number = d.keys()\n",
    "    qty = d.values()\n",
    "    print(number)\n",
    "    print(qty)\n",
    "    "
   ]
  },
  {
   "cell_type": "code",
   "execution_count": 46,
   "metadata": {},
   "outputs": [
    {
     "data": {
      "text/plain": [
       "6"
      ]
     },
     "execution_count": 46,
     "metadata": {},
     "output_type": "execute_result"
    }
   ],
   "source": [
    "collatz_lenght(5)"
   ]
  },
  {
   "cell_type": "code",
   "execution_count": 49,
   "metadata": {},
   "outputs": [
    {
     "data": {
      "text/plain": [
       "{1: 1, 2: 2, 3: 8, 4: 3, 5: 6, 6: 9, 7: 17, 8: 4}"
      ]
     },
     "execution_count": 49,
     "metadata": {},
     "output_type": "execute_result"
    }
   ],
   "source": [
    "collatz_range(1, 8)"
   ]
  },
  {
   "cell_type": "code",
   "execution_count": 51,
   "metadata": {},
   "outputs": [
    {
     "name": "stdout",
     "output_type": "stream",
     "text": [
      "dict_keys([1, 2, 3, 4, 5, 6, 7, 8])\n",
      "dict_values([1, 2, 8, 3, 6, 9, 17, 4])\n"
     ]
    }
   ],
   "source": [
    "collatz_finder(collatz_range(1,8))"
   ]
  }
 ],
 "metadata": {
  "kernelspec": {
   "display_name": "analisis",
   "language": "python",
   "name": "python3"
  },
  "language_info": {
   "codemirror_mode": {
    "name": "ipython",
    "version": 3
   },
   "file_extension": ".py",
   "mimetype": "text/x-python",
   "name": "python",
   "nbconvert_exporter": "python",
   "pygments_lexer": "ipython3",
   "version": "3.12.1"
  }
 },
 "nbformat": 4,
 "nbformat_minor": 2
}
