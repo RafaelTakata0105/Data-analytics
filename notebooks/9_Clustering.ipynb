{
 "cells": [
  {
   "cell_type": "markdown",
   "metadata": {},
   "source": [
    "# Clustering methods\n",
    "### Rafael Takata García"
   ]
  },
  {
   "cell_type": "markdown",
   "metadata": {},
   "source": [
    "#### Libraries"
   ]
  },
  {
   "cell_type": "code",
   "execution_count": 390,
   "metadata": {},
   "outputs": [],
   "source": [
    "import pandas as pd\n",
    "import numpy as np\n",
    "import matplotlib.pyplot as plt\n",
    "from sklearn.cluster import KMeans\n",
    "from sklearn.preprocessing import LabelEncoder\n",
    "from sklearn.cluster import DBSCAN\n",
    "from sklearn.metrics import silhouette_score"
   ]
  },
  {
   "cell_type": "markdown",
   "metadata": {},
   "source": [
    "#### Creation of Dataframes and Data processing"
   ]
  },
  {
   "cell_type": "code",
   "execution_count": 391,
   "metadata": {},
   "outputs": [
    {
     "data": {
      "text/html": [
       "<div>\n",
       "<style scoped>\n",
       "    .dataframe tbody tr th:only-of-type {\n",
       "        vertical-align: middle;\n",
       "    }\n",
       "\n",
       "    .dataframe tbody tr th {\n",
       "        vertical-align: top;\n",
       "    }\n",
       "\n",
       "    .dataframe thead th {\n",
       "        text-align: right;\n",
       "    }\n",
       "</style>\n",
       "<table border=\"1\" class=\"dataframe\">\n",
       "  <thead>\n",
       "    <tr style=\"text-align: right;\">\n",
       "      <th></th>\n",
       "      <th>id</th>\n",
       "      <th>name</th>\n",
       "      <th>host_id</th>\n",
       "      <th>host_name</th>\n",
       "      <th>neighbourhood_group</th>\n",
       "      <th>neighbourhood</th>\n",
       "      <th>latitude</th>\n",
       "      <th>longitude</th>\n",
       "      <th>room_type</th>\n",
       "      <th>price</th>\n",
       "      <th>minimum_nights</th>\n",
       "      <th>number_of_reviews</th>\n",
       "      <th>last_review</th>\n",
       "      <th>reviews_per_month</th>\n",
       "      <th>calculated_host_listings_count</th>\n",
       "      <th>availability_365</th>\n",
       "      <th>number_of_reviews_ltm</th>\n",
       "      <th>license</th>\n",
       "    </tr>\n",
       "  </thead>\n",
       "  <tbody>\n",
       "    <tr>\n",
       "      <th>0</th>\n",
       "      <td>45728646</td>\n",
       "      <td>Guest suite in Montréal · ★4.69 · 1 bedroom · ...</td>\n",
       "      <td>753212</td>\n",
       "      <td>Georges</td>\n",
       "      <td>NaN</td>\n",
       "      <td>Le Plateau-Mont-Royal</td>\n",
       "      <td>45.538850</td>\n",
       "      <td>-73.560370</td>\n",
       "      <td>Private room</td>\n",
       "      <td>21.0</td>\n",
       "      <td>31</td>\n",
       "      <td>13</td>\n",
       "      <td>2022-11-01</td>\n",
       "      <td>0.34</td>\n",
       "      <td>3</td>\n",
       "      <td>286</td>\n",
       "      <td>0</td>\n",
       "      <td>NaN</td>\n",
       "    </tr>\n",
       "    <tr>\n",
       "      <th>1</th>\n",
       "      <td>27438926</td>\n",
       "      <td>Rental unit in Montréal · 1 bedroom · 1 bed · ...</td>\n",
       "      <td>202884942</td>\n",
       "      <td>Abbie</td>\n",
       "      <td>NaN</td>\n",
       "      <td>Rosemont-La Petite-Patrie</td>\n",
       "      <td>45.531530</td>\n",
       "      <td>-73.604250</td>\n",
       "      <td>Entire home/apt</td>\n",
       "      <td>40.0</td>\n",
       "      <td>90</td>\n",
       "      <td>0</td>\n",
       "      <td>NaN</td>\n",
       "      <td>NaN</td>\n",
       "      <td>1</td>\n",
       "      <td>0</td>\n",
       "      <td>0</td>\n",
       "      <td>NaN</td>\n",
       "    </tr>\n",
       "    <tr>\n",
       "      <th>2</th>\n",
       "      <td>910248010739253417</td>\n",
       "      <td>Rental unit in Montréal · ★New · 1 bedroom · 1...</td>\n",
       "      <td>65607998</td>\n",
       "      <td>Nabil</td>\n",
       "      <td>NaN</td>\n",
       "      <td>Verdun</td>\n",
       "      <td>45.454424</td>\n",
       "      <td>-73.547104</td>\n",
       "      <td>Entire home/apt</td>\n",
       "      <td>55.0</td>\n",
       "      <td>31</td>\n",
       "      <td>0</td>\n",
       "      <td>NaN</td>\n",
       "      <td>NaN</td>\n",
       "      <td>1</td>\n",
       "      <td>27</td>\n",
       "      <td>0</td>\n",
       "      <td>NaN</td>\n",
       "    </tr>\n",
       "    <tr>\n",
       "      <th>3</th>\n",
       "      <td>854389634569393267</td>\n",
       "      <td>Rental unit in Montréal · 2 bedrooms · 2 beds ...</td>\n",
       "      <td>368730072</td>\n",
       "      <td>Nouhaila</td>\n",
       "      <td>NaN</td>\n",
       "      <td>Ville-Marie</td>\n",
       "      <td>45.502018</td>\n",
       "      <td>-73.556932</td>\n",
       "      <td>Entire home/apt</td>\n",
       "      <td>160.0</td>\n",
       "      <td>31</td>\n",
       "      <td>0</td>\n",
       "      <td>NaN</td>\n",
       "      <td>NaN</td>\n",
       "      <td>1</td>\n",
       "      <td>364</td>\n",
       "      <td>0</td>\n",
       "      <td>NaN</td>\n",
       "    </tr>\n",
       "    <tr>\n",
       "      <th>4</th>\n",
       "      <td>767425771328334796</td>\n",
       "      <td>Rental unit in Montréal · ★4.80 · Studio · 1 b...</td>\n",
       "      <td>162017221</td>\n",
       "      <td>Damian</td>\n",
       "      <td>NaN</td>\n",
       "      <td>Ville-Marie</td>\n",
       "      <td>45.517690</td>\n",
       "      <td>-73.560770</td>\n",
       "      <td>Entire home/apt</td>\n",
       "      <td>60.0</td>\n",
       "      <td>31</td>\n",
       "      <td>4</td>\n",
       "      <td>2023-08-16</td>\n",
       "      <td>0.39</td>\n",
       "      <td>2</td>\n",
       "      <td>0</td>\n",
       "      <td>4</td>\n",
       "      <td>NaN</td>\n",
       "    </tr>\n",
       "  </tbody>\n",
       "</table>\n",
       "</div>"
      ],
      "text/plain": [
       "                   id                                               name  \\\n",
       "0            45728646  Guest suite in Montréal · ★4.69 · 1 bedroom · ...   \n",
       "1            27438926  Rental unit in Montréal · 1 bedroom · 1 bed · ...   \n",
       "2  910248010739253417  Rental unit in Montréal · ★New · 1 bedroom · 1...   \n",
       "3  854389634569393267  Rental unit in Montréal · 2 bedrooms · 2 beds ...   \n",
       "4  767425771328334796  Rental unit in Montréal · ★4.80 · Studio · 1 b...   \n",
       "\n",
       "     host_id host_name  neighbourhood_group              neighbourhood  \\\n",
       "0     753212   Georges                  NaN      Le Plateau-Mont-Royal   \n",
       "1  202884942     Abbie                  NaN  Rosemont-La Petite-Patrie   \n",
       "2   65607998     Nabil                  NaN                     Verdun   \n",
       "3  368730072  Nouhaila                  NaN                Ville-Marie   \n",
       "4  162017221    Damian                  NaN                Ville-Marie   \n",
       "\n",
       "    latitude  longitude        room_type  price  minimum_nights  \\\n",
       "0  45.538850 -73.560370     Private room   21.0              31   \n",
       "1  45.531530 -73.604250  Entire home/apt   40.0              90   \n",
       "2  45.454424 -73.547104  Entire home/apt   55.0              31   \n",
       "3  45.502018 -73.556932  Entire home/apt  160.0              31   \n",
       "4  45.517690 -73.560770  Entire home/apt   60.0              31   \n",
       "\n",
       "   number_of_reviews last_review  reviews_per_month  \\\n",
       "0                 13  2022-11-01               0.34   \n",
       "1                  0         NaN                NaN   \n",
       "2                  0         NaN                NaN   \n",
       "3                  0         NaN                NaN   \n",
       "4                  4  2023-08-16               0.39   \n",
       "\n",
       "   calculated_host_listings_count  availability_365  number_of_reviews_ltm  \\\n",
       "0                               3               286                      0   \n",
       "1                               1                 0                      0   \n",
       "2                               1                27                      0   \n",
       "3                               1               364                      0   \n",
       "4                               2                 0                      4   \n",
       "\n",
       "  license  \n",
       "0     NaN  \n",
       "1     NaN  \n",
       "2     NaN  \n",
       "3     NaN  \n",
       "4     NaN  "
      ]
     },
     "execution_count": 391,
     "metadata": {},
     "output_type": "execute_result"
    }
   ],
   "source": [
    "df = pd.read_csv('../data/raw/listings.csv')\n",
    "df.head()"
   ]
  },
  {
   "cell_type": "code",
   "execution_count": 392,
   "metadata": {},
   "outputs": [
    {
     "name": "stdout",
     "output_type": "stream",
     "text": [
      "<class 'pandas.core.frame.DataFrame'>\n",
      "RangeIndex: 8807 entries, 0 to 8806\n",
      "Data columns (total 18 columns):\n",
      " #   Column                          Non-Null Count  Dtype  \n",
      "---  ------                          --------------  -----  \n",
      " 0   id                              8807 non-null   int64  \n",
      " 1   name                            8807 non-null   object \n",
      " 2   host_id                         8807 non-null   int64  \n",
      " 3   host_name                       8807 non-null   object \n",
      " 4   neighbourhood_group             0 non-null      float64\n",
      " 5   neighbourhood                   8807 non-null   object \n",
      " 6   latitude                        8807 non-null   float64\n",
      " 7   longitude                       8807 non-null   float64\n",
      " 8   room_type                       8807 non-null   object \n",
      " 9   price                           8692 non-null   float64\n",
      " 10  minimum_nights                  8807 non-null   int64  \n",
      " 11  number_of_reviews               8807 non-null   int64  \n",
      " 12  last_review                     6930 non-null   object \n",
      " 13  reviews_per_month               6930 non-null   float64\n",
      " 14  calculated_host_listings_count  8807 non-null   int64  \n",
      " 15  availability_365                8807 non-null   int64  \n",
      " 16  number_of_reviews_ltm           8807 non-null   int64  \n",
      " 17  license                         3932 non-null   object \n",
      "dtypes: float64(5), int64(7), object(6)\n",
      "memory usage: 1.2+ MB\n"
     ]
    }
   ],
   "source": [
    "df.info()"
   ]
  },
  {
   "cell_type": "code",
   "execution_count": 393,
   "metadata": {},
   "outputs": [
    {
     "data": {
      "text/plain": [
       "id                                   0\n",
       "name                                 0\n",
       "host_id                              0\n",
       "host_name                            0\n",
       "neighbourhood_group               8807\n",
       "neighbourhood                        0\n",
       "latitude                             0\n",
       "longitude                            0\n",
       "room_type                            0\n",
       "price                              115\n",
       "minimum_nights                       0\n",
       "number_of_reviews                    0\n",
       "last_review                       1877\n",
       "reviews_per_month                 1877\n",
       "calculated_host_listings_count       0\n",
       "availability_365                     0\n",
       "number_of_reviews_ltm                0\n",
       "license                           4875\n",
       "dtype: int64"
      ]
     },
     "execution_count": 393,
     "metadata": {},
     "output_type": "execute_result"
    }
   ],
   "source": [
    "df.isna().sum()"
   ]
  },
  {
   "cell_type": "markdown",
   "metadata": {},
   "source": [
    "The column `neighbourhood_group` doesn't have any single value so we are going to drop them.\n",
    "\n",
    "The NaNs in `last_review` is because they have never been reviewed :( and we already have a column that says the number of reviews all time so... We can drop them.\n",
    "\n",
    "`license` and `host_name` are not really variables that we should encode so let's drop them"
   ]
  },
  {
   "cell_type": "code",
   "execution_count": 394,
   "metadata": {},
   "outputs": [
    {
     "data": {
      "text/html": [
       "<div>\n",
       "<style scoped>\n",
       "    .dataframe tbody tr th:only-of-type {\n",
       "        vertical-align: middle;\n",
       "    }\n",
       "\n",
       "    .dataframe tbody tr th {\n",
       "        vertical-align: top;\n",
       "    }\n",
       "\n",
       "    .dataframe thead th {\n",
       "        text-align: right;\n",
       "    }\n",
       "</style>\n",
       "<table border=\"1\" class=\"dataframe\">\n",
       "  <thead>\n",
       "    <tr style=\"text-align: right;\">\n",
       "      <th></th>\n",
       "      <th>id</th>\n",
       "      <th>name</th>\n",
       "      <th>host_id</th>\n",
       "      <th>neighbourhood</th>\n",
       "      <th>latitude</th>\n",
       "      <th>longitude</th>\n",
       "      <th>room_type</th>\n",
       "      <th>price</th>\n",
       "      <th>minimum_nights</th>\n",
       "      <th>number_of_reviews</th>\n",
       "      <th>reviews_per_month</th>\n",
       "      <th>calculated_host_listings_count</th>\n",
       "      <th>availability_365</th>\n",
       "      <th>number_of_reviews_ltm</th>\n",
       "    </tr>\n",
       "  </thead>\n",
       "  <tbody>\n",
       "    <tr>\n",
       "      <th>0</th>\n",
       "      <td>45728646</td>\n",
       "      <td>Guest suite in Montréal · ★4.69 · 1 bedroom · ...</td>\n",
       "      <td>753212</td>\n",
       "      <td>Le Plateau-Mont-Royal</td>\n",
       "      <td>45.538850</td>\n",
       "      <td>-73.560370</td>\n",
       "      <td>Private room</td>\n",
       "      <td>21.0</td>\n",
       "      <td>31</td>\n",
       "      <td>13</td>\n",
       "      <td>0.34</td>\n",
       "      <td>3</td>\n",
       "      <td>286</td>\n",
       "      <td>0</td>\n",
       "    </tr>\n",
       "    <tr>\n",
       "      <th>1</th>\n",
       "      <td>27438926</td>\n",
       "      <td>Rental unit in Montréal · 1 bedroom · 1 bed · ...</td>\n",
       "      <td>202884942</td>\n",
       "      <td>Rosemont-La Petite-Patrie</td>\n",
       "      <td>45.531530</td>\n",
       "      <td>-73.604250</td>\n",
       "      <td>Entire home/apt</td>\n",
       "      <td>40.0</td>\n",
       "      <td>90</td>\n",
       "      <td>0</td>\n",
       "      <td>NaN</td>\n",
       "      <td>1</td>\n",
       "      <td>0</td>\n",
       "      <td>0</td>\n",
       "    </tr>\n",
       "    <tr>\n",
       "      <th>2</th>\n",
       "      <td>910248010739253417</td>\n",
       "      <td>Rental unit in Montréal · ★New · 1 bedroom · 1...</td>\n",
       "      <td>65607998</td>\n",
       "      <td>Verdun</td>\n",
       "      <td>45.454424</td>\n",
       "      <td>-73.547104</td>\n",
       "      <td>Entire home/apt</td>\n",
       "      <td>55.0</td>\n",
       "      <td>31</td>\n",
       "      <td>0</td>\n",
       "      <td>NaN</td>\n",
       "      <td>1</td>\n",
       "      <td>27</td>\n",
       "      <td>0</td>\n",
       "    </tr>\n",
       "  </tbody>\n",
       "</table>\n",
       "</div>"
      ],
      "text/plain": [
       "                   id                                               name  \\\n",
       "0            45728646  Guest suite in Montréal · ★4.69 · 1 bedroom · ...   \n",
       "1            27438926  Rental unit in Montréal · 1 bedroom · 1 bed · ...   \n",
       "2  910248010739253417  Rental unit in Montréal · ★New · 1 bedroom · 1...   \n",
       "\n",
       "     host_id              neighbourhood   latitude  longitude  \\\n",
       "0     753212      Le Plateau-Mont-Royal  45.538850 -73.560370   \n",
       "1  202884942  Rosemont-La Petite-Patrie  45.531530 -73.604250   \n",
       "2   65607998                     Verdun  45.454424 -73.547104   \n",
       "\n",
       "         room_type  price  minimum_nights  number_of_reviews  \\\n",
       "0     Private room   21.0              31                 13   \n",
       "1  Entire home/apt   40.0              90                  0   \n",
       "2  Entire home/apt   55.0              31                  0   \n",
       "\n",
       "   reviews_per_month  calculated_host_listings_count  availability_365  \\\n",
       "0               0.34                               3               286   \n",
       "1                NaN                               1                 0   \n",
       "2                NaN                               1                27   \n",
       "\n",
       "   number_of_reviews_ltm  \n",
       "0                      0  \n",
       "1                      0  \n",
       "2                      0  "
      ]
     },
     "execution_count": 394,
     "metadata": {},
     "output_type": "execute_result"
    }
   ],
   "source": [
    "df = df.drop(['neighbourhood_group', 'last_review', 'host_name', 'license'], axis=1)\n",
    "df.head(3)"
   ]
  },
  {
   "cell_type": "markdown",
   "metadata": {},
   "source": [
    "Now, let's replace the NaNs in `reviews_per_month` with 0 because they have 0 reviews in the last month (and all time)"
   ]
  },
  {
   "cell_type": "code",
   "execution_count": 395,
   "metadata": {},
   "outputs": [
    {
     "data": {
      "text/html": [
       "<div>\n",
       "<style scoped>\n",
       "    .dataframe tbody tr th:only-of-type {\n",
       "        vertical-align: middle;\n",
       "    }\n",
       "\n",
       "    .dataframe tbody tr th {\n",
       "        vertical-align: top;\n",
       "    }\n",
       "\n",
       "    .dataframe thead th {\n",
       "        text-align: right;\n",
       "    }\n",
       "</style>\n",
       "<table border=\"1\" class=\"dataframe\">\n",
       "  <thead>\n",
       "    <tr style=\"text-align: right;\">\n",
       "      <th></th>\n",
       "      <th>id</th>\n",
       "      <th>name</th>\n",
       "      <th>host_id</th>\n",
       "      <th>neighbourhood</th>\n",
       "      <th>latitude</th>\n",
       "      <th>longitude</th>\n",
       "      <th>room_type</th>\n",
       "      <th>price</th>\n",
       "      <th>minimum_nights</th>\n",
       "      <th>number_of_reviews</th>\n",
       "      <th>reviews_per_month</th>\n",
       "      <th>calculated_host_listings_count</th>\n",
       "      <th>availability_365</th>\n",
       "      <th>number_of_reviews_ltm</th>\n",
       "    </tr>\n",
       "  </thead>\n",
       "  <tbody>\n",
       "    <tr>\n",
       "      <th>0</th>\n",
       "      <td>45728646</td>\n",
       "      <td>Guest suite in Montréal · ★4.69 · 1 bedroom · ...</td>\n",
       "      <td>753212</td>\n",
       "      <td>Le Plateau-Mont-Royal</td>\n",
       "      <td>45.53885</td>\n",
       "      <td>-73.56037</td>\n",
       "      <td>Private room</td>\n",
       "      <td>21.0</td>\n",
       "      <td>31</td>\n",
       "      <td>13</td>\n",
       "      <td>0.34</td>\n",
       "      <td>3</td>\n",
       "      <td>286</td>\n",
       "      <td>0</td>\n",
       "    </tr>\n",
       "    <tr>\n",
       "      <th>1</th>\n",
       "      <td>27438926</td>\n",
       "      <td>Rental unit in Montréal · 1 bedroom · 1 bed · ...</td>\n",
       "      <td>202884942</td>\n",
       "      <td>Rosemont-La Petite-Patrie</td>\n",
       "      <td>45.53153</td>\n",
       "      <td>-73.60425</td>\n",
       "      <td>Entire home/apt</td>\n",
       "      <td>40.0</td>\n",
       "      <td>90</td>\n",
       "      <td>0</td>\n",
       "      <td>0.00</td>\n",
       "      <td>1</td>\n",
       "      <td>0</td>\n",
       "      <td>0</td>\n",
       "    </tr>\n",
       "  </tbody>\n",
       "</table>\n",
       "</div>"
      ],
      "text/plain": [
       "         id                                               name    host_id  \\\n",
       "0  45728646  Guest suite in Montréal · ★4.69 · 1 bedroom · ...     753212   \n",
       "1  27438926  Rental unit in Montréal · 1 bedroom · 1 bed · ...  202884942   \n",
       "\n",
       "               neighbourhood  latitude  longitude        room_type  price  \\\n",
       "0      Le Plateau-Mont-Royal  45.53885  -73.56037     Private room   21.0   \n",
       "1  Rosemont-La Petite-Patrie  45.53153  -73.60425  Entire home/apt   40.0   \n",
       "\n",
       "   minimum_nights  number_of_reviews  reviews_per_month  \\\n",
       "0              31                 13               0.34   \n",
       "1              90                  0               0.00   \n",
       "\n",
       "   calculated_host_listings_count  availability_365  number_of_reviews_ltm  \n",
       "0                               3               286                      0  \n",
       "1                               1                 0                      0  "
      ]
     },
     "execution_count": 395,
     "metadata": {},
     "output_type": "execute_result"
    }
   ],
   "source": [
    "df['reviews_per_month'] = df['reviews_per_month'].fillna(0)\n",
    "df.head(2)"
   ]
  },
  {
   "cell_type": "markdown",
   "metadata": {},
   "source": [
    "Inside name there is the type of property in aribnb so we can extract it and make a new column"
   ]
  },
  {
   "cell_type": "code",
   "execution_count": 396,
   "metadata": {},
   "outputs": [
    {
     "data": {
      "text/plain": [
       "0     Guest\n",
       "1    Rental\n",
       "2    Rental\n",
       "Name: property, dtype: object"
      ]
     },
     "execution_count": 396,
     "metadata": {},
     "output_type": "execute_result"
    }
   ],
   "source": [
    "df['property'] = df['name'].str.extract(r'(\\w+)', expand=False)\n",
    "df['property'][:3]"
   ]
  },
  {
   "cell_type": "markdown",
   "metadata": {},
   "source": [
    "Let's create a column to see the number of stars (from 1 to 5)"
   ]
  },
  {
   "cell_type": "code",
   "execution_count": 397,
   "metadata": {},
   "outputs": [],
   "source": [
    "df['stars'] = df['name'].apply(lambda x: x.split('★')[1].split('·')[0] if '★' in x else np.nan)\n",
    "df['stars'] = df['stars'].replace('New ', 0)"
   ]
  },
  {
   "cell_type": "code",
   "execution_count": 398,
   "metadata": {},
   "outputs": [
    {
     "data": {
      "text/plain": [
       "0    4.69\n",
       "1     NaN\n",
       "2    0.00\n",
       "Name: stars, dtype: float64"
      ]
     },
     "execution_count": 398,
     "metadata": {},
     "output_type": "execute_result"
    }
   ],
   "source": [
    "df['stars'] = df['stars'].astype(float)\n",
    "df['stars'].head(3)"
   ]
  },
  {
   "cell_type": "markdown",
   "metadata": {},
   "source": [
    "Let's encode `neighbourhood`, `property` and `room_type`"
   ]
  },
  {
   "cell_type": "code",
   "execution_count": 399,
   "metadata": {},
   "outputs": [],
   "source": [
    "le = LabelEncoder()"
   ]
  },
  {
   "cell_type": "code",
   "execution_count": 400,
   "metadata": {},
   "outputs": [
    {
     "data": {
      "text/html": [
       "<div>\n",
       "<style scoped>\n",
       "    .dataframe tbody tr th:only-of-type {\n",
       "        vertical-align: middle;\n",
       "    }\n",
       "\n",
       "    .dataframe tbody tr th {\n",
       "        vertical-align: top;\n",
       "    }\n",
       "\n",
       "    .dataframe thead th {\n",
       "        text-align: right;\n",
       "    }\n",
       "</style>\n",
       "<table border=\"1\" class=\"dataframe\">\n",
       "  <thead>\n",
       "    <tr style=\"text-align: right;\">\n",
       "      <th></th>\n",
       "      <th>room_type</th>\n",
       "      <th>neighbourhood</th>\n",
       "      <th>property</th>\n",
       "    </tr>\n",
       "  </thead>\n",
       "  <tbody>\n",
       "    <tr>\n",
       "      <th>0</th>\n",
       "      <td>2</td>\n",
       "      <td>14</td>\n",
       "      <td>10</td>\n",
       "    </tr>\n",
       "    <tr>\n",
       "      <th>1</th>\n",
       "      <td>0</td>\n",
       "      <td>25</td>\n",
       "      <td>18</td>\n",
       "    </tr>\n",
       "    <tr>\n",
       "      <th>2</th>\n",
       "      <td>0</td>\n",
       "      <td>29</td>\n",
       "      <td>18</td>\n",
       "    </tr>\n",
       "    <tr>\n",
       "      <th>3</th>\n",
       "      <td>0</td>\n",
       "      <td>30</td>\n",
       "      <td>18</td>\n",
       "    </tr>\n",
       "    <tr>\n",
       "      <th>4</th>\n",
       "      <td>0</td>\n",
       "      <td>30</td>\n",
       "      <td>18</td>\n",
       "    </tr>\n",
       "    <tr>\n",
       "      <th>...</th>\n",
       "      <td>...</td>\n",
       "      <td>...</td>\n",
       "      <td>...</td>\n",
       "    </tr>\n",
       "    <tr>\n",
       "      <th>8802</th>\n",
       "      <td>0</td>\n",
       "      <td>30</td>\n",
       "      <td>18</td>\n",
       "    </tr>\n",
       "    <tr>\n",
       "      <th>8803</th>\n",
       "      <td>0</td>\n",
       "      <td>5</td>\n",
       "      <td>8</td>\n",
       "    </tr>\n",
       "    <tr>\n",
       "      <th>8804</th>\n",
       "      <td>0</td>\n",
       "      <td>14</td>\n",
       "      <td>18</td>\n",
       "    </tr>\n",
       "    <tr>\n",
       "      <th>8805</th>\n",
       "      <td>0</td>\n",
       "      <td>14</td>\n",
       "      <td>18</td>\n",
       "    </tr>\n",
       "    <tr>\n",
       "      <th>8806</th>\n",
       "      <td>0</td>\n",
       "      <td>14</td>\n",
       "      <td>18</td>\n",
       "    </tr>\n",
       "  </tbody>\n",
       "</table>\n",
       "<p>8807 rows × 3 columns</p>\n",
       "</div>"
      ],
      "text/plain": [
       "      room_type  neighbourhood  property\n",
       "0             2             14        10\n",
       "1             0             25        18\n",
       "2             0             29        18\n",
       "3             0             30        18\n",
       "4             0             30        18\n",
       "...         ...            ...       ...\n",
       "8802          0             30        18\n",
       "8803          0              5         8\n",
       "8804          0             14        18\n",
       "8805          0             14        18\n",
       "8806          0             14        18\n",
       "\n",
       "[8807 rows x 3 columns]"
      ]
     },
     "execution_count": 400,
     "metadata": {},
     "output_type": "execute_result"
    }
   ],
   "source": [
    "df['room_type'] = le.fit_transform(df['room_type'])\n",
    "df['neighbourhood'] = le.fit_transform(df['neighbourhood'])\n",
    "df['property'] = le.fit_transform(df['property'])\n",
    "df[['room_type', 'neighbourhood', 'property']]"
   ]
  },
  {
   "cell_type": "markdown",
   "metadata": {},
   "source": [
    "#### Fill missing values"
   ]
  },
  {
   "cell_type": "code",
   "execution_count": 401,
   "metadata": {},
   "outputs": [
    {
     "data": {
      "text/plain": [
       "id                                   0\n",
       "name                                 0\n",
       "host_id                              0\n",
       "neighbourhood                        0\n",
       "latitude                             0\n",
       "longitude                            0\n",
       "room_type                            0\n",
       "price                              115\n",
       "minimum_nights                       0\n",
       "number_of_reviews                    0\n",
       "reviews_per_month                    0\n",
       "calculated_host_listings_count       0\n",
       "availability_365                     0\n",
       "number_of_reviews_ltm                0\n",
       "property                             0\n",
       "stars                             2172\n",
       "dtype: int64"
      ]
     },
     "execution_count": 401,
     "metadata": {},
     "output_type": "execute_result"
    }
   ],
   "source": [
    "df.isna().sum()"
   ]
  },
  {
   "cell_type": "markdown",
   "metadata": {},
   "source": [
    "We only have missing values in `price` and `stars`, let's see the distributions "
   ]
  },
  {
   "cell_type": "code",
   "execution_count": 402,
   "metadata": {},
   "outputs": [
    {
     "data": {
      "text/plain": [
       "<Axes: >"
      ]
     },
     "execution_count": 402,
     "metadata": {},
     "output_type": "execute_result"
    },
    {
     "data": {
      "image/png": "[encoded data removed]",
      "text/plain": [
       "<Figure size 640x480 with 1 Axes>"
      ]
     },
     "metadata": {},
     "output_type": "display_data"
    }
   ],
   "source": [
    "df['price'].plot(kind='box') #We have some big atypical values so we can replace it with the median"
   ]
  },
  {
   "cell_type": "code",
   "execution_count": 403,
   "metadata": {},
   "outputs": [
    {
     "data": {
      "text/plain": [
       "(88.07162830716177, 8035.273043396497)"
      ]
     },
     "execution_count": 403,
     "metadata": {},
     "output_type": "execute_result"
    }
   ],
   "source": [
    "df['price'].skew(), df['price'].kurt()"
   ]
  },
  {
   "cell_type": "markdown",
   "metadata": {},
   "source": [
    "The kurtosis and skew are extremly high so, we have extreme values that are completely outliers (as you can see)\n",
    "\n",
    "A recommended method to substitute the values in this cases is using the median since it's way less sensitive to the extreme values."
   ]
  },
  {
   "cell_type": "code",
   "execution_count": 404,
   "metadata": {},
   "outputs": [
    {
     "data": {
      "text/plain": [
       "0     21.0\n",
       "1     40.0\n",
       "2     55.0\n",
       "3    160.0\n",
       "4     60.0\n",
       "Name: price, dtype: float64"
      ]
     },
     "execution_count": 404,
     "metadata": {},
     "output_type": "execute_result"
    }
   ],
   "source": [
    "df['price'] = df['price'].fillna(df['price'].median())\n",
    "df['price'].head()"
   ]
  },
  {
   "cell_type": "markdown",
   "metadata": {},
   "source": [
    "Now let's do `stars`"
   ]
  },
  {
   "cell_type": "code",
   "execution_count": 405,
   "metadata": {},
   "outputs": [
    {
     "data": {
      "text/plain": [
       "<Axes: >"
      ]
     },
     "execution_count": 405,
     "metadata": {},
     "output_type": "execute_result"
    },
    {
     "data": {
      "image/png": "[encoded data removed]",
      "text/plain": [
       "<Figure size 640x480 with 1 Axes>"
      ]
     },
     "metadata": {},
     "output_type": "display_data"
    }
   ],
   "source": [
    "df['stars'].plot(kind = 'box')"
   ]
  },
  {
   "cell_type": "code",
   "execution_count": 406,
   "metadata": {},
   "outputs": [
    {
     "data": {
      "text/plain": [
       "(-2.2101080883957556, 3.101236921690485)"
      ]
     },
     "execution_count": 406,
     "metadata": {},
     "output_type": "execute_result"
    }
   ],
   "source": [
    "df['stars'].skew(), df['stars'].kurt()"
   ]
  },
  {
   "cell_type": "markdown",
   "metadata": {},
   "source": [
    "But, let's see what the AirBnbs without stars have in common."
   ]
  },
  {
   "cell_type": "code",
   "execution_count": 407,
   "metadata": {},
   "outputs": [
    {
     "data": {
      "text/html": [
       "<div>\n",
       "<style scoped>\n",
       "    .dataframe tbody tr th:only-of-type {\n",
       "        vertical-align: middle;\n",
       "    }\n",
       "\n",
       "    .dataframe tbody tr th {\n",
       "        vertical-align: top;\n",
       "    }\n",
       "\n",
       "    .dataframe thead th {\n",
       "        text-align: right;\n",
       "    }\n",
       "</style>\n",
       "<table border=\"1\" class=\"dataframe\">\n",
       "  <thead>\n",
       "    <tr style=\"text-align: right;\">\n",
       "      <th></th>\n",
       "      <th>id</th>\n",
       "      <th>name</th>\n",
       "      <th>host_id</th>\n",
       "      <th>neighbourhood</th>\n",
       "      <th>latitude</th>\n",
       "      <th>longitude</th>\n",
       "      <th>room_type</th>\n",
       "      <th>price</th>\n",
       "      <th>minimum_nights</th>\n",
       "      <th>number_of_reviews</th>\n",
       "      <th>reviews_per_month</th>\n",
       "      <th>calculated_host_listings_count</th>\n",
       "      <th>availability_365</th>\n",
       "      <th>number_of_reviews_ltm</th>\n",
       "      <th>property</th>\n",
       "      <th>stars</th>\n",
       "    </tr>\n",
       "  </thead>\n",
       "  <tbody>\n",
       "    <tr>\n",
       "      <th>1</th>\n",
       "      <td>27438926</td>\n",
       "      <td>Rental unit in Montréal · 1 bedroom · 1 bed · ...</td>\n",
       "      <td>202884942</td>\n",
       "      <td>25</td>\n",
       "      <td>45.531530</td>\n",
       "      <td>-73.604250</td>\n",
       "      <td>0</td>\n",
       "      <td>40.0</td>\n",
       "      <td>90</td>\n",
       "      <td>0</td>\n",
       "      <td>0.00</td>\n",
       "      <td>1</td>\n",
       "      <td>0</td>\n",
       "      <td>0</td>\n",
       "      <td>18</td>\n",
       "      <td>NaN</td>\n",
       "    </tr>\n",
       "    <tr>\n",
       "      <th>3</th>\n",
       "      <td>854389634569393267</td>\n",
       "      <td>Rental unit in Montréal · 2 bedrooms · 2 beds ...</td>\n",
       "      <td>368730072</td>\n",
       "      <td>30</td>\n",
       "      <td>45.502018</td>\n",
       "      <td>-73.556932</td>\n",
       "      <td>0</td>\n",
       "      <td>160.0</td>\n",
       "      <td>31</td>\n",
       "      <td>0</td>\n",
       "      <td>0.00</td>\n",
       "      <td>1</td>\n",
       "      <td>364</td>\n",
       "      <td>0</td>\n",
       "      <td>18</td>\n",
       "      <td>NaN</td>\n",
       "    </tr>\n",
       "    <tr>\n",
       "      <th>7</th>\n",
       "      <td>979639365844896994</td>\n",
       "      <td>Rental unit in Montréal · 1 bedroom · 1 bed · ...</td>\n",
       "      <td>484415805</td>\n",
       "      <td>14</td>\n",
       "      <td>45.514912</td>\n",
       "      <td>-73.576093</td>\n",
       "      <td>0</td>\n",
       "      <td>120.0</td>\n",
       "      <td>31</td>\n",
       "      <td>0</td>\n",
       "      <td>0.00</td>\n",
       "      <td>30</td>\n",
       "      <td>37</td>\n",
       "      <td>0</td>\n",
       "      <td>18</td>\n",
       "      <td>NaN</td>\n",
       "    </tr>\n",
       "    <tr>\n",
       "      <th>8</th>\n",
       "      <td>23149282</td>\n",
       "      <td>Hostel in Montréal · 1 bedroom · 1 bed · 8 sha...</td>\n",
       "      <td>172058803</td>\n",
       "      <td>14</td>\n",
       "      <td>45.507940</td>\n",
       "      <td>-73.576010</td>\n",
       "      <td>2</td>\n",
       "      <td>35.0</td>\n",
       "      <td>35</td>\n",
       "      <td>2</td>\n",
       "      <td>0.03</td>\n",
       "      <td>15</td>\n",
       "      <td>0</td>\n",
       "      <td>0</td>\n",
       "      <td>13</td>\n",
       "      <td>NaN</td>\n",
       "    </tr>\n",
       "    <tr>\n",
       "      <th>9</th>\n",
       "      <td>37522616</td>\n",
       "      <td>Townhouse in Montréal · 4 bedrooms · 4 beds · ...</td>\n",
       "      <td>118132081</td>\n",
       "      <td>15</td>\n",
       "      <td>45.460420</td>\n",
       "      <td>-73.590040</td>\n",
       "      <td>0</td>\n",
       "      <td>110.0</td>\n",
       "      <td>180</td>\n",
       "      <td>0</td>\n",
       "      <td>0.00</td>\n",
       "      <td>1</td>\n",
       "      <td>0</td>\n",
       "      <td>0</td>\n",
       "      <td>22</td>\n",
       "      <td>NaN</td>\n",
       "    </tr>\n",
       "  </tbody>\n",
       "</table>\n",
       "</div>"
      ],
      "text/plain": [
       "                   id                                               name  \\\n",
       "1            27438926  Rental unit in Montréal · 1 bedroom · 1 bed · ...   \n",
       "3  854389634569393267  Rental unit in Montréal · 2 bedrooms · 2 beds ...   \n",
       "7  979639365844896994  Rental unit in Montréal · 1 bedroom · 1 bed · ...   \n",
       "8            23149282  Hostel in Montréal · 1 bedroom · 1 bed · 8 sha...   \n",
       "9            37522616  Townhouse in Montréal · 4 bedrooms · 4 beds · ...   \n",
       "\n",
       "     host_id  neighbourhood   latitude  longitude  room_type  price  \\\n",
       "1  202884942             25  45.531530 -73.604250          0   40.0   \n",
       "3  368730072             30  45.502018 -73.556932          0  160.0   \n",
       "7  484415805             14  45.514912 -73.576093          0  120.0   \n",
       "8  172058803             14  45.507940 -73.576010          2   35.0   \n",
       "9  118132081             15  45.460420 -73.590040          0  110.0   \n",
       "\n",
       "   minimum_nights  number_of_reviews  reviews_per_month  \\\n",
       "1              90                  0               0.00   \n",
       "3              31                  0               0.00   \n",
       "7              31                  0               0.00   \n",
       "8              35                  2               0.03   \n",
       "9             180                  0               0.00   \n",
       "\n",
       "   calculated_host_listings_count  availability_365  number_of_reviews_ltm  \\\n",
       "1                               1                 0                      0   \n",
       "3                               1               364                      0   \n",
       "7                              30                37                      0   \n",
       "8                              15                 0                      0   \n",
       "9                               1                 0                      0   \n",
       "\n",
       "   property  stars  \n",
       "1        18    NaN  \n",
       "3        18    NaN  \n",
       "7        18    NaN  \n",
       "8        13    NaN  \n",
       "9        22    NaN  "
      ]
     },
     "execution_count": 407,
     "metadata": {},
     "output_type": "execute_result"
    }
   ],
   "source": [
    "df.iloc[np.where(df['stars'].isna())].head()"
   ]
  },
  {
   "cell_type": "markdown",
   "metadata": {},
   "source": [
    "so as you can see, it means that they have from little to no reviews at all. With that being said, we can fill the missing values with 0 then."
   ]
  },
  {
   "cell_type": "code",
   "execution_count": 408,
   "metadata": {},
   "outputs": [],
   "source": [
    "df['stars'] = df['stars'].fillna(0)"
   ]
  },
  {
   "cell_type": "code",
   "execution_count": 409,
   "metadata": {},
   "outputs": [
    {
     "data": {
      "text/plain": [
       "id                                0\n",
       "name                              0\n",
       "host_id                           0\n",
       "neighbourhood                     0\n",
       "latitude                          0\n",
       "longitude                         0\n",
       "room_type                         0\n",
       "price                             0\n",
       "minimum_nights                    0\n",
       "number_of_reviews                 0\n",
       "reviews_per_month                 0\n",
       "calculated_host_listings_count    0\n",
       "availability_365                  0\n",
       "number_of_reviews_ltm             0\n",
       "property                          0\n",
       "stars                             0\n",
       "dtype: int64"
      ]
     },
     "execution_count": 409,
     "metadata": {},
     "output_type": "execute_result"
    }
   ],
   "source": [
    "df.isna().sum()"
   ]
  },
  {
   "cell_type": "markdown",
   "metadata": {},
   "source": [
    "We don't have any NaNs left.\n",
    "\n",
    "finally let's drop the variables that we won't use anymore."
   ]
  },
  {
   "cell_type": "code",
   "execution_count": 410,
   "metadata": {},
   "outputs": [
    {
     "data": {
      "text/html": [
       "<div>\n",
       "<style scoped>\n",
       "    .dataframe tbody tr th:only-of-type {\n",
       "        vertical-align: middle;\n",
       "    }\n",
       "\n",
       "    .dataframe tbody tr th {\n",
       "        vertical-align: top;\n",
       "    }\n",
       "\n",
       "    .dataframe thead th {\n",
       "        text-align: right;\n",
       "    }\n",
       "</style>\n",
       "<table border=\"1\" class=\"dataframe\">\n",
       "  <thead>\n",
       "    <tr style=\"text-align: right;\">\n",
       "      <th></th>\n",
       "      <th>neighbourhood</th>\n",
       "      <th>latitude</th>\n",
       "      <th>longitude</th>\n",
       "      <th>room_type</th>\n",
       "      <th>price</th>\n",
       "      <th>minimum_nights</th>\n",
       "      <th>number_of_reviews</th>\n",
       "      <th>reviews_per_month</th>\n",
       "      <th>calculated_host_listings_count</th>\n",
       "      <th>availability_365</th>\n",
       "      <th>number_of_reviews_ltm</th>\n",
       "      <th>property</th>\n",
       "      <th>stars</th>\n",
       "    </tr>\n",
       "  </thead>\n",
       "  <tbody>\n",
       "    <tr>\n",
       "      <th>0</th>\n",
       "      <td>14</td>\n",
       "      <td>45.538850</td>\n",
       "      <td>-73.560370</td>\n",
       "      <td>2</td>\n",
       "      <td>21.0</td>\n",
       "      <td>31</td>\n",
       "      <td>13</td>\n",
       "      <td>0.34</td>\n",
       "      <td>3</td>\n",
       "      <td>286</td>\n",
       "      <td>0</td>\n",
       "      <td>10</td>\n",
       "      <td>4.69</td>\n",
       "    </tr>\n",
       "    <tr>\n",
       "      <th>1</th>\n",
       "      <td>25</td>\n",
       "      <td>45.531530</td>\n",
       "      <td>-73.604250</td>\n",
       "      <td>0</td>\n",
       "      <td>40.0</td>\n",
       "      <td>90</td>\n",
       "      <td>0</td>\n",
       "      <td>0.00</td>\n",
       "      <td>1</td>\n",
       "      <td>0</td>\n",
       "      <td>0</td>\n",
       "      <td>18</td>\n",
       "      <td>0.00</td>\n",
       "    </tr>\n",
       "    <tr>\n",
       "      <th>2</th>\n",
       "      <td>29</td>\n",
       "      <td>45.454424</td>\n",
       "      <td>-73.547104</td>\n",
       "      <td>0</td>\n",
       "      <td>55.0</td>\n",
       "      <td>31</td>\n",
       "      <td>0</td>\n",
       "      <td>0.00</td>\n",
       "      <td>1</td>\n",
       "      <td>27</td>\n",
       "      <td>0</td>\n",
       "      <td>18</td>\n",
       "      <td>0.00</td>\n",
       "    </tr>\n",
       "    <tr>\n",
       "      <th>3</th>\n",
       "      <td>30</td>\n",
       "      <td>45.502018</td>\n",
       "      <td>-73.556932</td>\n",
       "      <td>0</td>\n",
       "      <td>160.0</td>\n",
       "      <td>31</td>\n",
       "      <td>0</td>\n",
       "      <td>0.00</td>\n",
       "      <td>1</td>\n",
       "      <td>364</td>\n",
       "      <td>0</td>\n",
       "      <td>18</td>\n",
       "      <td>0.00</td>\n",
       "    </tr>\n",
       "    <tr>\n",
       "      <th>4</th>\n",
       "      <td>30</td>\n",
       "      <td>45.517690</td>\n",
       "      <td>-73.560770</td>\n",
       "      <td>0</td>\n",
       "      <td>60.0</td>\n",
       "      <td>31</td>\n",
       "      <td>4</td>\n",
       "      <td>0.39</td>\n",
       "      <td>2</td>\n",
       "      <td>0</td>\n",
       "      <td>4</td>\n",
       "      <td>18</td>\n",
       "      <td>4.80</td>\n",
       "    </tr>\n",
       "  </tbody>\n",
       "</table>\n",
       "</div>"
      ],
      "text/plain": [
       "   neighbourhood   latitude  longitude  room_type  price  minimum_nights  \\\n",
       "0             14  45.538850 -73.560370          2   21.0              31   \n",
       "1             25  45.531530 -73.604250          0   40.0              90   \n",
       "2             29  45.454424 -73.547104          0   55.0              31   \n",
       "3             30  45.502018 -73.556932          0  160.0              31   \n",
       "4             30  45.517690 -73.560770          0   60.0              31   \n",
       "\n",
       "   number_of_reviews  reviews_per_month  calculated_host_listings_count  \\\n",
       "0                 13               0.34                               3   \n",
       "1                  0               0.00                               1   \n",
       "2                  0               0.00                               1   \n",
       "3                  0               0.00                               1   \n",
       "4                  4               0.39                               2   \n",
       "\n",
       "   availability_365  number_of_reviews_ltm  property  stars  \n",
       "0               286                      0        10   4.69  \n",
       "1                 0                      0        18   0.00  \n",
       "2                27                      0        18   0.00  \n",
       "3               364                      0        18   0.00  \n",
       "4                 0                      4        18   4.80  "
      ]
     },
     "execution_count": 410,
     "metadata": {},
     "output_type": "execute_result"
    }
   ],
   "source": [
    "df = df.drop(columns=['name', 'id', 'host_id'])\n",
    "df.head()"
   ]
  },
  {
   "cell_type": "markdown",
   "metadata": {},
   "source": [
    "#### Kmeans (Random init)"
   ]
  },
  {
   "cell_type": "code",
   "execution_count": 411,
   "metadata": {},
   "outputs": [
    {
     "name": "stderr",
     "output_type": "stream",
     "text": [
      "c:\\Users\\Rafa\\anaconda3\\envs\\analisis\\Lib\\site-packages\\sklearn\\cluster\\_kmeans.py:1412: FutureWarning: The default value of `n_init` will change from 10 to 'auto' in 1.4. Set the value of `n_init` explicitly to suppress the warning\n",
      "  super()._check_params_vs_input(X, default_n_init=10)\n"
     ]
    }
   ],
   "source": [
    "kmR = KMeans(init = 'random').fit(df)"
   ]
  },
  {
   "cell_type": "code",
   "execution_count": 412,
   "metadata": {},
   "outputs": [
    {
     "data": {
      "text/plain": [
       "(174233217.13181907, -174233217.13181907)"
      ]
     },
     "execution_count": 412,
     "metadata": {},
     "output_type": "execute_result"
    }
   ],
   "source": [
    "kmR.inertia_, kmR.score(df)"
   ]
  },
  {
   "cell_type": "markdown",
   "metadata": {},
   "source": [
    "#### Kmeans++"
   ]
  },
  {
   "cell_type": "code",
   "execution_count": 413,
   "metadata": {},
   "outputs": [
    {
     "name": "stderr",
     "output_type": "stream",
     "text": [
      "c:\\Users\\Rafa\\anaconda3\\envs\\analisis\\Lib\\site-packages\\sklearn\\cluster\\_kmeans.py:1412: FutureWarning: The default value of `n_init` will change from 10 to 'auto' in 1.4. Set the value of `n_init` explicitly to suppress the warning\n",
      "  super()._check_params_vs_input(X, default_n_init=10)\n"
     ]
    }
   ],
   "source": [
    "kmplus = KMeans(init = 'k-means++').fit(df)"
   ]
  },
  {
   "cell_type": "code",
   "execution_count": 414,
   "metadata": {},
   "outputs": [
    {
     "data": {
      "text/plain": [
       "(140996981.02664015, -140996981.02664012)"
      ]
     },
     "execution_count": 414,
     "metadata": {},
     "output_type": "execute_result"
    }
   ],
   "source": [
    "kmplus.inertia_, kmplus.score(df)"
   ]
  },
  {
   "cell_type": "markdown",
   "metadata": {},
   "source": [
    "#### DBSCAN"
   ]
  },
  {
   "cell_type": "code",
   "execution_count": 415,
   "metadata": {},
   "outputs": [],
   "source": [
    "db = DBSCAN().fit(df)"
   ]
  },
  {
   "cell_type": "code",
   "execution_count": 416,
   "metadata": {},
   "outputs": [],
   "source": [
    "dbclusters = db.fit_predict(df)"
   ]
  },
  {
   "cell_type": "code",
   "execution_count": 417,
   "metadata": {},
   "outputs": [],
   "source": [
    "dblabels = db.labels_"
   ]
  },
  {
   "cell_type": "code",
   "execution_count": 418,
   "metadata": {},
   "outputs": [],
   "source": [
    "n_clusters_ = len(set(dblabels)) - (1 if -1 in dblabels else 0)\n",
    "n_noise_ = list(dblabels).count(-1)"
   ]
  },
  {
   "cell_type": "code",
   "execution_count": 419,
   "metadata": {},
   "outputs": [
    {
     "data": {
      "text/plain": [
       "(3, 8791)"
      ]
     },
     "execution_count": 419,
     "metadata": {},
     "output_type": "execute_result"
    }
   ],
   "source": [
    "n_clusters_, n_noise_"
   ]
  },
  {
   "cell_type": "code",
   "execution_count": 420,
   "metadata": {},
   "outputs": [
    {
     "data": {
      "text/plain": [
       "-0.22611560128307018"
      ]
     },
     "execution_count": 420,
     "metadata": {},
     "output_type": "execute_result"
    }
   ],
   "source": [
    "db_score = silhouette_score(df, dbclusters)\n",
    "db_score"
   ]
  },
  {
   "cell_type": "markdown",
   "metadata": {},
   "source": [
    "### Conclusions"
   ]
  },
  {
   "cell_type": "markdown",
   "metadata": {},
   "source": [
    "Even with all the AirBnb that are registered, there are a lot that don't have any single review or booking in the last month or even all time. Based in the DBSCAN, we can group most of the properties in just three clusters."
   ]
  }
 ],
 "metadata": {
  "kernelspec": {
   "display_name": "analisis",
   "language": "python",
   "name": "python3"
  },
  "language_info": {
   "codemirror_mode": {
    "name": "ipython",
    "version": 3
   },
   "file_extension": ".py",
   "mimetype": "text/x-python",
   "name": "python",
   "nbconvert_exporter": "python",
   "pygments_lexer": "ipython3",
   "version": "3.12.1"
  }
 },
 "nbformat": 4,
 "nbformat_minor": 2
}
