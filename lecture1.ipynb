{
  "nbformat": 4,
  "nbformat_minor": 0,
  "metadata": {
    "colab": {
      "provenance": [],
      "authorship_tag": "ABX9TyNHO0fP9u8T4j/TX16Ysxl1",
      "include_colab_link": true
    },
    "kernelspec": {
      "name": "python3",
      "display_name": "Python 3"
    },
    "language_info": {
      "name": "python"
    }
  },
  "cells": [
    {
      "cell_type": "markdown",
      "metadata": {
        "id": "view-in-github",
        "colab_type": "text"
      },
      "source": [
        "<a href=\"https://colab.research.google.com/github/RafaelTakata0105/Data-analytics/blob/main/lecture1.ipynb\" target=\"_parent\"><img src=\"https://colab.research.google.com/assets/colab-badge.svg\" alt=\"Open In Colab\"/></a>"
      ]
    },
    {
      "cell_type": "code",
      "execution_count": 1,
      "metadata": {
        "colab": {
          "base_uri": "https://localhost:8080/"
        },
        "id": "Sq7LdZZ1F-eD",
        "outputId": "5e275092-346c-4c89-ccb4-422515f40dc6"
      },
      "outputs": [
        {
          "output_type": "stream",
          "name": "stdout",
          "text": [
            "hello world\n"
          ]
        }
      ],
      "source": [
        "print(\"hello world\")"
      ]
    },
    {
      "cell_type": "markdown",
      "source": [
        "# Hola Roi!\n",
        "## s\n",
        "### subsubtitulo"
      ],
      "metadata": {
        "id": "Df8MhRp6GWXe"
      }
    },
    {
      "cell_type": "markdown",
      "source": [
        "$$\n",
        "P(x) = p(x/y)\n",
        "$$"
      ],
      "metadata": {
        "id": "hF3qZF87Hh48"
      }
    }
  ]
}